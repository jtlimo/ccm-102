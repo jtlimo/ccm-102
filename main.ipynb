{
 "cells": [
  {
   "attachments": {},
   "cell_type": "markdown",
   "id": "a925769b",
   "metadata": {},
   "source": [
    "# 0.0 Imports - Inicio de tudo"
   ]
  },
  {
   "cell_type": "code",
   "execution_count": null,
   "id": "08fae0e8",
   "metadata": {},
   "outputs": [],
   "source": [
    "import pandas as pd\n",
    "from sklearn.neighbors import KNeighborsClassifier\n",
    "from sklearn.metrics import accuracy_score\n",
    "from sklearn.model_selection import train_test_split\n",
    "\n",
    "ds = pd.read_excel('GPS_Data_Simplified_2D_Feature_Map.xlsx',  dtype = str)\n",
    "\n",
    "\n",
    "feature_columns = [\"PRN\",\"DO\",\"PD\",\t\"RX\",\"TOW\",\"CP\",\"EC\",\"LC\",\"PC\",\t\"PIP\",\"PQP\",\"TCD\",\"CN0\"]\n",
    "X = ds[feature_columns].values\n",
    "y = ds['Output'].values\n",
    "\n",
    "\n",
    "X_train, X_test, y_train, y_test = train_test_split(X, y, test_size=0.3, random_state=42)\n",
    "cl_sklearn = KNeighborsClassifier(n_neighbors=3)\n",
    "cl_sklearn.fit(X_train, y_train)\n",
    "y_pred = cl_sklearn.predict(X_test)\n",
    "\n",
    "accuracy = accuracy_score(y_test, y_pred)\n",
    "print(f\"Accuracy of KNN Classifier: {accuracy:.2f}\")"
   ]
  }
 ],
 "metadata": {
  "kernelspec": {
   "display_name": "ccm102_kernel",
   "language": "python",
   "name": "ccm102_kernel"
  },
  "language_info": {
   "codemirror_mode": {
    "name": "ipython",
    "version": 3
   },
   "file_extension": ".py",
   "mimetype": "text/x-python",
   "name": "python",
   "nbconvert_exporter": "python",
   "pygments_lexer": "ipython3",
   "version": "3.13.3"
  }
 },
 "nbformat": 4,
 "nbformat_minor": 5
}
