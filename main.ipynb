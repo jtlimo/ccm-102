{
  "cells": [
    {
      "attachments": {},
      "cell_type": "markdown",
      "id": "a925769b",
      "metadata": {},
      "source": [
        "## 0.0 Imports"
      ]
    },
    {
      "cell_type": "code",
      "execution_count": 1,
      "id": "08fae0e8",
      "metadata": {},
      "outputs": [
        {
          "name": "stdout",
          "output_type": "stream",
          "text": [
            "Requirement already satisfied: pandas in ./.venv/lib/python3.13/site-packages (2.3.1)\n",
            "Requirement already satisfied: numpy>=1.26.0 in ./.venv/lib/python3.13/site-packages (from pandas) (2.3.1)\n",
            "Requirement already satisfied: python-dateutil>=2.8.2 in ./.venv/lib/python3.13/site-packages (from pandas) (2.9.0.post0)\n",
            "Requirement already satisfied: pytz>=2020.1 in ./.venv/lib/python3.13/site-packages (from pandas) (2025.2)\n",
            "Requirement already satisfied: tzdata>=2022.7 in ./.venv/lib/python3.13/site-packages (from pandas) (2025.2)\n",
            "Requirement already satisfied: six>=1.5 in ./.venv/lib/python3.13/site-packages (from python-dateutil>=2.8.2->pandas) (1.17.0)\n",
            "Note: you may need to restart the kernel to use updated packages.\n",
            "Requirement already satisfied: scikit-learn in ./.venv/lib/python3.13/site-packages (1.7.1)\n",
            "Requirement already satisfied: numpy>=1.22.0 in ./.venv/lib/python3.13/site-packages (from scikit-learn) (2.3.1)\n",
            "Requirement already satisfied: scipy>=1.8.0 in ./.venv/lib/python3.13/site-packages (from scikit-learn) (1.16.0)\n",
            "Requirement already satisfied: joblib>=1.2.0 in ./.venv/lib/python3.13/site-packages (from scikit-learn) (1.5.1)\n",
            "Requirement already satisfied: threadpoolctl>=3.1.0 in ./.venv/lib/python3.13/site-packages (from scikit-learn) (3.6.0)\n",
            "Note: you may need to restart the kernel to use updated packages.\n",
            "Requirement already satisfied: openpyxl in ./.venv/lib/python3.13/site-packages (3.1.5)\n",
            "Requirement already satisfied: et-xmlfile in ./.venv/lib/python3.13/site-packages (from openpyxl) (2.0.0)\n",
            "Note: you may need to restart the kernel to use updated packages.\n",
            "Requirement already satisfied: pip in ./.venv/lib/python3.13/site-packages (25.2)\n",
            "Note: you may need to restart the kernel to use updated packages.\n",
            "Requirement already satisfied: matplotlib in ./.venv/lib/python3.13/site-packages (3.10.5)\n",
            "Requirement already satisfied: contourpy>=1.0.1 in ./.venv/lib/python3.13/site-packages (from matplotlib) (1.3.3)\n",
            "Requirement already satisfied: cycler>=0.10 in ./.venv/lib/python3.13/site-packages (from matplotlib) (0.12.1)\n",
            "Requirement already satisfied: fonttools>=4.22.0 in ./.venv/lib/python3.13/site-packages (from matplotlib) (4.59.0)\n",
            "Requirement already satisfied: kiwisolver>=1.3.1 in ./.venv/lib/python3.13/site-packages (from matplotlib) (1.4.9)\n",
            "Requirement already satisfied: numpy>=1.23 in ./.venv/lib/python3.13/site-packages (from matplotlib) (2.3.1)\n",
            "Requirement already satisfied: packaging>=20.0 in ./.venv/lib/python3.13/site-packages (from matplotlib) (25.0)\n",
            "Requirement already satisfied: pillow>=8 in ./.venv/lib/python3.13/site-packages (from matplotlib) (11.3.0)\n",
            "Requirement already satisfied: pyparsing>=2.3.1 in ./.venv/lib/python3.13/site-packages (from matplotlib) (3.2.3)\n",
            "Requirement already satisfied: python-dateutil>=2.7 in ./.venv/lib/python3.13/site-packages (from matplotlib) (2.9.0.post0)\n",
            "Requirement already satisfied: six>=1.5 in ./.venv/lib/python3.13/site-packages (from python-dateutil>=2.7->matplotlib) (1.17.0)\n",
            "Note: you may need to restart the kernel to use updated packages.\n",
            "Requirement already satisfied: seaborn in ./.venv/lib/python3.13/site-packages (0.13.2)\n",
            "Requirement already satisfied: numpy!=1.24.0,>=1.20 in ./.venv/lib/python3.13/site-packages (from seaborn) (2.3.1)\n",
            "Requirement already satisfied: pandas>=1.2 in ./.venv/lib/python3.13/site-packages (from seaborn) (2.3.1)\n",
            "Requirement already satisfied: matplotlib!=3.6.1,>=3.4 in ./.venv/lib/python3.13/site-packages (from seaborn) (3.10.5)\n",
            "Requirement already satisfied: contourpy>=1.0.1 in ./.venv/lib/python3.13/site-packages (from matplotlib!=3.6.1,>=3.4->seaborn) (1.3.3)\n",
            "Requirement already satisfied: cycler>=0.10 in ./.venv/lib/python3.13/site-packages (from matplotlib!=3.6.1,>=3.4->seaborn) (0.12.1)\n",
            "Requirement already satisfied: fonttools>=4.22.0 in ./.venv/lib/python3.13/site-packages (from matplotlib!=3.6.1,>=3.4->seaborn) (4.59.0)\n",
            "Requirement already satisfied: kiwisolver>=1.3.1 in ./.venv/lib/python3.13/site-packages (from matplotlib!=3.6.1,>=3.4->seaborn) (1.4.9)\n",
            "Requirement already satisfied: packaging>=20.0 in ./.venv/lib/python3.13/site-packages (from matplotlib!=3.6.1,>=3.4->seaborn) (25.0)\n",
            "Requirement already satisfied: pillow>=8 in ./.venv/lib/python3.13/site-packages (from matplotlib!=3.6.1,>=3.4->seaborn) (11.3.0)\n",
            "Requirement already satisfied: pyparsing>=2.3.1 in ./.venv/lib/python3.13/site-packages (from matplotlib!=3.6.1,>=3.4->seaborn) (3.2.3)\n",
            "Requirement already satisfied: python-dateutil>=2.7 in ./.venv/lib/python3.13/site-packages (from matplotlib!=3.6.1,>=3.4->seaborn) (2.9.0.post0)\n",
            "Requirement already satisfied: pytz>=2020.1 in ./.venv/lib/python3.13/site-packages (from pandas>=1.2->seaborn) (2025.2)\n",
            "Requirement already satisfied: tzdata>=2022.7 in ./.venv/lib/python3.13/site-packages (from pandas>=1.2->seaborn) (2025.2)\n",
            "Requirement already satisfied: six>=1.5 in ./.venv/lib/python3.13/site-packages (from python-dateutil>=2.7->matplotlib!=3.6.1,>=3.4->seaborn) (1.17.0)\n",
            "Note: you may need to restart the kernel to use updated packages.\n",
            "Requirement already satisfied: pycm==4.3 in ./.venv/lib/python3.13/site-packages (4.3)\n",
            "Requirement already satisfied: art>=1.8 in ./.venv/lib/python3.13/site-packages (from pycm==4.3) (6.5)\n",
            "Requirement already satisfied: numpy>=1.9.0 in ./.venv/lib/python3.13/site-packages (from pycm==4.3) (2.3.1)\n",
            "Note: you may need to restart the kernel to use updated packages.\n"
          ]
        }
      ],
      "source": [
        "%pip install pandas\n",
        "%pip install scikit-learn\n",
        "%pip install openpyxl\n",
        "%pip install --upgrade pip\n",
        "%pip install matplotlib\n",
        "%pip install seaborn\n",
        "%pip install pycm==4.3\n",
        "\n",
        "import pandas as pd\n",
        "import numpy as np\n",
        "from sklearn.neighbors import KNeighborsClassifier\n",
        "from sklearn.ensemble import RandomForestClassifier\n",
        "from sklearn.metrics import accuracy_score, confusion_matrix, f1_score, precision_score, recall_score\n",
        "from sklearn.model_selection import train_test_split\n",
        "from pycm import ConfusionMatrix\n",
        "import matplotlib.pyplot as plt\n",
        "from collections import Counter"
      ]
    },
    {
      "attachments": {},
      "cell_type": "markdown",
      "id": "7a496c2a",
      "metadata": {},
      "source": [
        "## 1.0 Leitura do conjunto de dados"
      ]
    },
    {
      "cell_type": "code",
      "execution_count": 2,
      "id": "9f6cf53e",
      "metadata": {},
      "outputs": [
        {
          "data": {
            "text/html": [
              "<div>\n",
              "<style scoped>\n",
              "    .dataframe tbody tr th:only-of-type {\n",
              "        vertical-align: middle;\n",
              "    }\n",
              "\n",
              "    .dataframe tbody tr th {\n",
              "        vertical-align: top;\n",
              "    }\n",
              "\n",
              "    .dataframe thead th {\n",
              "        text-align: right;\n",
              "    }\n",
              "</style>\n",
              "<table border=\"1\" class=\"dataframe\">\n",
              "  <thead>\n",
              "    <tr style=\"text-align: right;\">\n",
              "      <th></th>\n",
              "      <th>PRN</th>\n",
              "      <th>DO</th>\n",
              "      <th>PD</th>\n",
              "      <th>RX</th>\n",
              "      <th>TOW</th>\n",
              "      <th>CP</th>\n",
              "      <th>EC</th>\n",
              "      <th>LC</th>\n",
              "      <th>PC</th>\n",
              "      <th>PIP</th>\n",
              "      <th>PQP</th>\n",
              "      <th>TCD</th>\n",
              "      <th>CN0</th>\n",
              "      <th>Output</th>\n",
              "    </tr>\n",
              "  </thead>\n",
              "  <tbody>\n",
              "    <tr>\n",
              "      <th>0</th>\n",
              "      <td>6</td>\n",
              "      <td>1160.67140780005</td>\n",
              "      <td>-238359.543281858</td>\n",
              "      <td>491568</td>\n",
              "      <td>491568.000795082</td>\n",
              "      <td>-24660.2632931903</td>\n",
              "      <td>163521.78</td>\n",
              "      <td>170008.81</td>\n",
              "      <td>179294.97</td>\n",
              "      <td>178420.33</td>\n",
              "      <td>-17688.178</td>\n",
              "      <td>1158.4806</td>\n",
              "      <td>49.412529</td>\n",
              "      <td>0</td>\n",
              "    </tr>\n",
              "    <tr>\n",
              "      <th>1</th>\n",
              "      <td>6</td>\n",
              "      <td>1157.82780811118</td>\n",
              "      <td>-238363.921192484</td>\n",
              "      <td>491568.02</td>\n",
              "      <td>491568.020795096</td>\n",
              "      <td>-24683.4685202421</td>\n",
              "      <td>158277.05</td>\n",
              "      <td>160253.09</td>\n",
              "      <td>182106.11</td>\n",
              "      <td>182106.05</td>\n",
              "      <td>158.33333</td>\n",
              "      <td>1160.7948</td>\n",
              "      <td>49.452686</td>\n",
              "      <td>0</td>\n",
              "    </tr>\n",
              "    <tr>\n",
              "      <th>2</th>\n",
              "      <td>6</td>\n",
              "      <td>1161.13593220979</td>\n",
              "      <td>-238368.638614547</td>\n",
              "      <td>491568.04</td>\n",
              "      <td>491568.040795112</td>\n",
              "      <td>-24706.6873571922</td>\n",
              "      <td>184442.36</td>\n",
              "      <td>193125.89</td>\n",
              "      <td>208228.02</td>\n",
              "      <td>-205198.3</td>\n",
              "      <td>35391.59</td>\n",
              "      <td>1157.6909</td>\n",
              "      <td>49.480145</td>\n",
              "      <td>0</td>\n",
              "    </tr>\n",
              "    <tr>\n",
              "      <th>3</th>\n",
              "      <td>6</td>\n",
              "      <td>1161.15661719479</td>\n",
              "      <td>-238373.391774656</td>\n",
              "      <td>491568.06</td>\n",
              "      <td>491568.060795128</td>\n",
              "      <td>-24729.9200394638</td>\n",
              "      <td>159812.45</td>\n",
              "      <td>169960.55</td>\n",
              "      <td>187550.72</td>\n",
              "      <td>187543</td>\n",
              "      <td>-1701.944</td>\n",
              "      <td>1161.1343</td>\n",
              "      <td>49.433769</td>\n",
              "      <td>0</td>\n",
              "    </tr>\n",
              "    <tr>\n",
              "      <th>4</th>\n",
              "      <td>6</td>\n",
              "      <td>1160.6908929619</td>\n",
              "      <td>-238378.127065742</td>\n",
              "      <td>491568.08</td>\n",
              "      <td>491568.080795144</td>\n",
              "      <td>-24753.1539994783</td>\n",
              "      <td>183557.66</td>\n",
              "      <td>191912.58</td>\n",
              "      <td>208403.5</td>\n",
              "      <td>208330.05</td>\n",
              "      <td>-5532.8999</td>\n",
              "      <td>1161.1759</td>\n",
              "      <td>49.39167</td>\n",
              "      <td>0</td>\n",
              "    </tr>\n",
              "    <tr>\n",
              "      <th>...</th>\n",
              "      <td>...</td>\n",
              "      <td>...</td>\n",
              "      <td>...</td>\n",
              "      <td>...</td>\n",
              "      <td>...</td>\n",
              "      <td>...</td>\n",
              "      <td>...</td>\n",
              "      <td>...</td>\n",
              "      <td>...</td>\n",
              "      <td>...</td>\n",
              "      <td>...</td>\n",
              "      <td>...</td>\n",
              "      <td>...</td>\n",
              "      <td>...</td>\n",
              "    </tr>\n",
              "    <tr>\n",
              "      <th>510525</th>\n",
              "      <td>4</td>\n",
              "      <td>-1113.336004</td>\n",
              "      <td>1949364.523</td>\n",
              "      <td>264109.58</td>\n",
              "      <td>264109.5735</td>\n",
              "      <td>114898.7034</td>\n",
              "      <td>90875.36719</td>\n",
              "      <td>104455.8516</td>\n",
              "      <td>99626.32031</td>\n",
              "      <td>-95613.48438</td>\n",
              "      <td>27990.45703</td>\n",
              "      <td>-1113.685547</td>\n",
              "      <td>43.05340958</td>\n",
              "      <td>0</td>\n",
              "    </tr>\n",
              "    <tr>\n",
              "      <th>510526</th>\n",
              "      <td>7</td>\n",
              "      <td>3542.882288</td>\n",
              "      <td>2823824.599</td>\n",
              "      <td>264109.58</td>\n",
              "      <td>264109.5706</td>\n",
              "      <td>-195707.189</td>\n",
              "      <td>139266.9219</td>\n",
              "      <td>133094.5938</td>\n",
              "      <td>144683.2656</td>\n",
              "      <td>-142087.5469</td>\n",
              "      <td>-27283.24023</td>\n",
              "      <td>3532.388916</td>\n",
              "      <td>46.4665451</td>\n",
              "      <td>0</td>\n",
              "    </tr>\n",
              "    <tr>\n",
              "      <th>510527</th>\n",
              "      <td>9</td>\n",
              "      <td>1205.18283</td>\n",
              "      <td>1298452.438</td>\n",
              "      <td>264109.58</td>\n",
              "      <td>264109.5757</td>\n",
              "      <td>-136011.0641</td>\n",
              "      <td>104211.4117</td>\n",
              "      <td>111445.296</td>\n",
              "      <td>125940.9297</td>\n",
              "      <td>-125705.6406</td>\n",
              "      <td>-9212.472557</td>\n",
              "      <td>2779.28833</td>\n",
              "      <td>47.58116531</td>\n",
              "      <td>3</td>\n",
              "    </tr>\n",
              "    <tr>\n",
              "      <th>510528</th>\n",
              "      <td>27</td>\n",
              "      <td>2814.03045</td>\n",
              "      <td>2298963.88</td>\n",
              "      <td>264109.58</td>\n",
              "      <td>264109.5723</td>\n",
              "      <td>-300750.7153</td>\n",
              "      <td>107693.0131</td>\n",
              "      <td>121277.7439</td>\n",
              "      <td>133731.1114</td>\n",
              "      <td>132020.7188</td>\n",
              "      <td>-21319.94265</td>\n",
              "      <td>2780.66748</td>\n",
              "      <td>46.21652603</td>\n",
              "      <td>3</td>\n",
              "    </tr>\n",
              "    <tr>\n",
              "      <th>510529</th>\n",
              "      <td>16</td>\n",
              "      <td>-1128.727534</td>\n",
              "      <td>1930857.745</td>\n",
              "      <td>264109.58</td>\n",
              "      <td>264109.5736</td>\n",
              "      <td>116884.3898</td>\n",
              "      <td>120670.3137</td>\n",
              "      <td>130400.5361</td>\n",
              "      <td>144633.2816</td>\n",
              "      <td>144197.1875</td>\n",
              "      <td>-11223.06787</td>\n",
              "      <td>-1221.668701</td>\n",
              "      <td>45.23025513</td>\n",
              "      <td>3</td>\n",
              "    </tr>\n",
              "  </tbody>\n",
              "</table>\n",
              "<p>510530 rows × 14 columns</p>\n",
              "</div>"
            ],
            "text/plain": [
              "       PRN                DO                 PD         RX               TOW  \\\n",
              "0        6  1160.67140780005  -238359.543281858     491568  491568.000795082   \n",
              "1        6  1157.82780811118  -238363.921192484  491568.02  491568.020795096   \n",
              "2        6  1161.13593220979  -238368.638614547  491568.04  491568.040795112   \n",
              "3        6  1161.15661719479  -238373.391774656  491568.06  491568.060795128   \n",
              "4        6   1160.6908929619  -238378.127065742  491568.08  491568.080795144   \n",
              "...     ..               ...                ...        ...               ...   \n",
              "510525   4      -1113.336004        1949364.523  264109.58       264109.5735   \n",
              "510526   7       3542.882288        2823824.599  264109.58       264109.5706   \n",
              "510527   9        1205.18283        1298452.438  264109.58       264109.5757   \n",
              "510528  27        2814.03045         2298963.88  264109.58       264109.5723   \n",
              "510529  16      -1128.727534        1930857.745  264109.58       264109.5736   \n",
              "\n",
              "                       CP           EC           LC           PC  \\\n",
              "0       -24660.2632931903    163521.78    170008.81    179294.97   \n",
              "1       -24683.4685202421    158277.05    160253.09    182106.11   \n",
              "2       -24706.6873571922    184442.36    193125.89    208228.02   \n",
              "3       -24729.9200394638    159812.45    169960.55    187550.72   \n",
              "4       -24753.1539994783    183557.66    191912.58     208403.5   \n",
              "...                   ...          ...          ...          ...   \n",
              "510525        114898.7034  90875.36719  104455.8516  99626.32031   \n",
              "510526        -195707.189  139266.9219  133094.5938  144683.2656   \n",
              "510527       -136011.0641  104211.4117   111445.296  125940.9297   \n",
              "510528       -300750.7153  107693.0131  121277.7439  133731.1114   \n",
              "510529        116884.3898  120670.3137  130400.5361  144633.2816   \n",
              "\n",
              "                 PIP           PQP           TCD          CN0 Output  \n",
              "0          178420.33    -17688.178     1158.4806    49.412529      0  \n",
              "1          182106.05     158.33333     1160.7948    49.452686      0  \n",
              "2          -205198.3      35391.59     1157.6909    49.480145      0  \n",
              "3             187543     -1701.944     1161.1343    49.433769      0  \n",
              "4          208330.05    -5532.8999     1161.1759     49.39167      0  \n",
              "...              ...           ...           ...          ...    ...  \n",
              "510525  -95613.48438   27990.45703  -1113.685547  43.05340958      0  \n",
              "510526  -142087.5469  -27283.24023   3532.388916   46.4665451      0  \n",
              "510527  -125705.6406  -9212.472557    2779.28833  47.58116531      3  \n",
              "510528   132020.7188  -21319.94265    2780.66748  46.21652603      3  \n",
              "510529   144197.1875  -11223.06787  -1221.668701  45.23025513      3  \n",
              "\n",
              "[510530 rows x 14 columns]"
            ]
          },
          "execution_count": 2,
          "metadata": {},
          "output_type": "execute_result"
        }
      ],
      "source": [
        "ds = pd.read_excel('GPS_Data_Simplified_2D_Feature_Map.xlsx',  dtype = str)\n",
        "ds"
      ]
    },
    {
      "cell_type": "markdown",
      "id": "c1417a19",
      "metadata": {},
      "source": [
        "### 1.1a Funções auxiliares"
      ]
    },
    {
      "cell_type": "code",
      "execution_count": 3,
      "id": "3e2bc696",
      "metadata": {},
      "outputs": [],
      "source": [
        "translated_names = {\n",
        "    \"TPR\": \"Probabilidade de detecção\",\n",
        "    \"FPR\": \"Probabilidade de alarme falso\",\n",
        "    \"PMD\": \"Probabilidade de detecção falsa\",\n",
        "    \"TNR\": \"Especificidade\",\n",
        "    \"ERR\": \"Taxa de Erro\",\n",
        "    \"ACC\": \"Acurácia\",\n",
        "    \"F1\": \"F1-Score\",\n",
        "    \"MCC\": \"Coeficiente MCC\",\n",
        "    \"PFA\": \"Probabilidade de alarme falso\",\n",
        "  }\n",
        "\n",
        "\n",
        "# function that receive a confusion matrix and return weighted metrics\n",
        "def get_weighted_metrics(cm, metrics_to_show=[\"TPR\", \"FPR\", \"TNR\", \"ERR\", \"ACC\", \"F1\", \"MCC\"]):\n",
        "    classes = cm.classes\n",
        "    metrics = {}\n",
        "    metrics_weighted = {}\n",
        "    counts = Counter(cm.actual_vector)\n",
        "    total = len(cm.actual_vector)\n",
        "\n",
        "    for metric in metrics_to_show:\n",
        "      metrics.update({metric: list(cm.class_stat[metric].values())})\n",
        "\n",
        "    metrics.update({\"PMD\": [1 - cm.TPR[c] for c in classes]})\n",
        "    weights = np.array([counts.get(cls, 0) / total for cls in classes])\n",
        "    \n",
        "    for metric in metrics_to_show:\n",
        "      values_per_class = np.array(list(cm.class_stat[metric].values()))\n",
        "      weighted_values = np.sum(values_per_class * weights)\n",
        "      metrics_weighted[metric] = weighted_values\n",
        "    \n",
        "    values_per_class = np.array(metrics[\"PMD\"])\n",
        "    metrics_weighted[\"PMD\"] = np.sum(values_per_class * weights)\n",
        "\n",
        "    return metrics_weighted\n",
        "\n",
        "def print_weighted_metrics(metrics_weighted):\n",
        "    data = [(translated_names.get(k, k), v) for k, v in metrics_weighted.items()]\n",
        "\n",
        "    df = pd.DataFrame(data, columns=[\"Métrica\", \"Valor\"], index=None)\n",
        "    df[\"Valor\"] = df[\"Valor\"].map(lambda x: f\"{x:.4f}\")\n",
        "    \n",
        "    return df\n",
        "\n",
        "\n",
        "def plot_metrics_graphic(results, metrics_to_plot):\n",
        "  algorithms = list(results.keys())\n",
        "  first_metric_value = [results[alg][metrics_to_plot[0]] * 100 for alg in algorithms] \n",
        "  second_metric_value = [results[alg][metrics_to_plot[1]] * 100 for alg in algorithms] \n",
        "\n",
        "  x = np.arange(len(algorithms))\n",
        "  width = 0.15\n",
        "  gap = 0.05\n",
        "\n",
        "  _, ax = plt.subplots()\n",
        "\n",
        "  ax.bar(x - width/2 - gap/2, first_metric_value, width, label=translated_names.get(metrics_to_plot[0].upper(), metrics_to_plot[0].upper()), color='skyblue')\n",
        "  ax.bar(x + width/2 + gap/2, second_metric_value, width, label=translated_names.get(metrics_to_plot[1].upper(), metrics_to_plot[1].upper()), color='lightgray')\n",
        "\n",
        "  ax.set_ylabel('%', fontsize=12)\n",
        "  ax.set_xticks(x)\n",
        "  ax.set_xticklabels(algorithms, fontsize=10)\n",
        "  ax.tick_params(axis='y', labelsize=10)\n",
        "  ax.legend(\n",
        "      loc='upper center',\n",
        "      bbox_to_anchor=(0.5, -0.15),\n",
        "      ncol=2,\n",
        "      fontsize=9\n",
        "  )\n",
        "\n",
        "  ax.yaxis.grid(True, linestyle='--', alpha=0.6)\n",
        "  plt.tight_layout()\n",
        "  plt.show()\n"
      ]
    },
    {
      "cell_type": "markdown",
      "id": "5f17b2cd",
      "metadata": {},
      "source": [
        "### 1.1 Pre-processamento dos dados\n",
        "Utilização da técnica _Principal Component Analysis (PCA)_\n",
        "\n",
        "> Esta técnica visa reduzir a dimensão do conjunto de dados."
      ]
    },
    {
      "cell_type": "code",
      "execution_count": 3,
      "id": "32a2c424",
      "metadata": {},
      "outputs": [],
      "source": [
        "# código PCA"
      ]
    },
    {
      "cell_type": "markdown",
      "id": "f60d9302",
      "metadata": {},
      "source": [
        "### 1.1 Extração das features e da classe\n"
      ]
    },
    {
      "cell_type": "code",
      "execution_count": 4,
      "id": "53427657",
      "metadata": {},
      "outputs": [
        {
          "name": "stdout",
          "output_type": "stream",
          "text": [
            "<class 'pandas.core.frame.DataFrame'>\n",
            "RangeIndex: 510530 entries, 0 to 510529\n",
            "Data columns (total 14 columns):\n",
            " #   Column  Non-Null Count   Dtype \n",
            "---  ------  --------------   ----- \n",
            " 0   PRN     510530 non-null  object\n",
            " 1   DO      510530 non-null  object\n",
            " 2   PD      510530 non-null  object\n",
            " 3   RX      510530 non-null  object\n",
            " 4   TOW     510530 non-null  object\n",
            " 5   CP      510530 non-null  object\n",
            " 6   EC      510530 non-null  object\n",
            " 7   LC      510530 non-null  object\n",
            " 8   PC      510530 non-null  object\n",
            " 9   PIP     510530 non-null  object\n",
            " 10  PQP     510530 non-null  object\n",
            " 11  TCD     510530 non-null  object\n",
            " 12  CN0     510530 non-null  object\n",
            " 13  Output  510530 non-null  object\n",
            "dtypes: object(14)\n",
            "memory usage: 54.5+ MB\n"
          ]
        }
      ],
      "source": [
        "feature_columns = [\"PRN\",\"DO\",\"PD\",\t\"RX\",\"TOW\",\"CP\",\"EC\",\"LC\",\"PC\",\t\"PIP\",\"PQP\",\"TCD\",\"CN0\"]\n",
        "X = ds[feature_columns].values\n",
        "y = ds['Output'].values\n",
        "\n",
        "ds.info()"
      ]
    },
    {
      "attachments": {},
      "cell_type": "markdown",
      "id": "5f17b2cd",
      "metadata": {},
      "source": [
        "### 1.2 Pre-processamento dos dados\n",
        "Utilização da técnica _Principal Component Analysis (PCA)_\n",
        "\n",
        "> Esta técnica visa reduzir a dimensão do conjunto de dados."
      ]
    },
    {
      "cell_type": "code",
      "execution_count": 4,
      "id": "32a2c424",
      "metadata": {},
      "outputs": [],
      "source": [
        "# código PCA\n",
        "# scaler = StandardScaler()\n",
        "# X_scaled = scaler.fit_transform(X)\n",
        "\n",
        "# pca = PCA(n_components=2)\n",
        "# X_pca = pca.fit_transform(X_scaled)"
      ]
    },
    {
      "attachments": {},
      "cell_type": "markdown",
      "id": "afc0a2d6",
      "metadata": {},
      "source": [
        "### 1.3 Separação dos dados de treinamento e teste\n",
        "> Separação foi de 70% do conjunto de dados para treino e 30% para testes\n"
      ]
    },
    {
      "cell_type": "code",
      "execution_count": 6,
      "id": "8b6163f9",
      "metadata": {},
      "outputs": [],
      "source": [
        "# X_train, X_test, y_train, y_test = train_test_split(X_pca, y, test_size=0.3, random_state=42)\n",
        "X_train, X_test, y_train, y_test = train_test_split(X, y, test_size=0.3, random_state=42)\n",
        "\n"
      ]
    },
    {
      "attachments": {},
      "cell_type": "markdown",
      "id": "00faf00f",
      "metadata": {},
      "source": [
        "## 2. Treino e teste do K-NN"
      ]
    },
    {
      "cell_type": "code",
      "execution_count": 7,
      "id": "fbda7d2f",
      "metadata": {},
      "outputs": [],
      "source": [
        "cl_sklearn = KNeighborsClassifier(n_neighbors=3)\n",
        "cl_sklearn.fit(X_train, y_train)\n",
        "y_pred = cl_sklearn.predict(X_test)"
      ]
    },
    {
      "attachments": {},
      "cell_type": "markdown",
      "id": "16780632",
      "metadata": {},
      "source": [
        "### 2.1 Métricas de desempenho do K-NN"
      ]
    },
    {
      "cell_type": "code",
      "execution_count": null,
      "id": "20bffa95",
      "metadata": {},
      "outputs": [
        {
          "data": {
            "text/html": [
              "<div>\n",
              "<style scoped>\n",
              "    .dataframe tbody tr th:only-of-type {\n",
              "        vertical-align: middle;\n",
              "    }\n",
              "\n",
              "    .dataframe tbody tr th {\n",
              "        vertical-align: top;\n",
              "    }\n",
              "\n",
              "    .dataframe thead th {\n",
              "        text-align: right;\n",
              "    }\n",
              "</style>\n",
              "<table border=\"1\" class=\"dataframe\">\n",
              "  <thead>\n",
              "    <tr style=\"text-align: right;\">\n",
              "      <th></th>\n",
              "      <th>Métrica</th>\n",
              "      <th>Valor</th>\n",
              "    </tr>\n",
              "  </thead>\n",
              "  <tbody>\n",
              "    <tr>\n",
              "      <th>0</th>\n",
              "      <td>Probabilidade de detecção</td>\n",
              "      <td>0.8962</td>\n",
              "    </tr>\n",
              "    <tr>\n",
              "      <th>1</th>\n",
              "      <td>Probabilidade de alarme falso</td>\n",
              "      <td>0.1541</td>\n",
              "    </tr>\n",
              "    <tr>\n",
              "      <th>2</th>\n",
              "      <td>Especificidade</td>\n",
              "      <td>0.8459</td>\n",
              "    </tr>\n",
              "    <tr>\n",
              "      <th>3</th>\n",
              "      <td>Taxa de Erro</td>\n",
              "      <td>0.0737</td>\n",
              "    </tr>\n",
              "    <tr>\n",
              "      <th>4</th>\n",
              "      <td>Acurácia</td>\n",
              "      <td>0.9263</td>\n",
              "    </tr>\n",
              "    <tr>\n",
              "      <th>5</th>\n",
              "      <td>F1-Score</td>\n",
              "      <td>0.8959</td>\n",
              "    </tr>\n",
              "    <tr>\n",
              "      <th>6</th>\n",
              "      <td>Coeficiente MCC</td>\n",
              "      <td>0.7459</td>\n",
              "    </tr>\n",
              "    <tr>\n",
              "      <th>7</th>\n",
              "      <td>Probabilidade de detecção falsa</td>\n",
              "      <td>0.1038</td>\n",
              "    </tr>\n",
              "  </tbody>\n",
              "</table>\n",
              "</div>"
            ],
            "text/plain": [
              "                           Métrica   Valor\n",
              "0        Probabilidade de detecção  0.8962\n",
              "1    Probabilidade de alarme falso  0.1541\n",
              "2                   Especificidade  0.8459\n",
              "3                     Taxa de Erro  0.0737\n",
              "4                         Acurácia  0.9263\n",
              "5                         F1-Score  0.8959\n",
              "6                  Coeficiente MCC  0.7459\n",
              "7  Probabilidade de detecção falsa  0.1038"
            ]
          },
          "execution_count": 8,
          "metadata": {},
          "output_type": "execute_result"
        }
      ],
      "source": [
        "cm = ConfusionMatrix(actual_vector=y_test,predict_vector=y_pred)\n",
        "\n",
        "weighted_metrics_knn = get_weighted_metrics(cm)\n",
        "print_weighted_metrics(weighted_metrics_knn)\n"
      ]
    },
    {
      "attachments": {},
      "cell_type": "markdown",
      "id": "3e547864",
      "metadata": {},
      "source": [
        "### 2.2 Matriz de confusão"
      ]
    },
    {
      "cell_type": "code",
      "execution_count": null,
      "id": "d855b18b",
      "metadata": {},
      "outputs": [
        {
          "data": {
            "text/plain": [
              "<Axes: title={'center': 'Matriz de Confusão'}, xlabel='Predicted Classes', ylabel='Actual Classes'>"
            ]
          },
          "execution_count": 9,
          "metadata": {},
          "output_type": "execute_result"
        },
        {
          "data": {
            "image/png": "[encoded data removed]",
            "text/plain": [
              "<Figure size 640x480 with 2 Axes>"
            ]
          },
          "metadata": {},
          "output_type": "display_data"
        }
      ],
      "source": [
        "cm.plot(number_label=True, title=\"Matriz de Confusão\", cmap=plt.cm.Blues) # type: ignore"
      ]
    },
    {
      "attachments": {},
      "cell_type": "markdown",
      "id": "063434bb",
      "metadata": {},
      "source": [
        "## 3. Treino e teste do Random Forest"
      ]
    },
    {
      "cell_type": "code",
      "execution_count": 10,
      "id": "28f3288e",
      "metadata": {},
      "outputs": [],
      "source": [
        "rf = RandomForestClassifier(n_estimators=100, random_state=42)\n",
        "rf.fit(X_train, y_train)\n",
        "\n",
        "y_pred = rf.predict(X_test)"
      ]
    },
    {
      "attachments": {},
      "cell_type": "markdown",
      "id": "8ac0ab68",
      "metadata": {},
      "source": [
        "### 3.1 Métricas de desempenho do Random Forest"
      ]
    },
    {
      "cell_type": "code",
      "execution_count": null,
      "id": "46a1f1db",
      "metadata": {},
      "outputs": [
        {
          "data": {
            "text/html": [
              "<div>\n",
              "<style scoped>\n",
              "    .dataframe tbody tr th:only-of-type {\n",
              "        vertical-align: middle;\n",
              "    }\n",
              "\n",
              "    .dataframe tbody tr th {\n",
              "        vertical-align: top;\n",
              "    }\n",
              "\n",
              "    .dataframe thead th {\n",
              "        text-align: right;\n",
              "    }\n",
              "</style>\n",
              "<table border=\"1\" class=\"dataframe\">\n",
              "  <thead>\n",
              "    <tr style=\"text-align: right;\">\n",
              "      <th></th>\n",
              "      <th>Métrica</th>\n",
              "      <th>Valor</th>\n",
              "    </tr>\n",
              "  </thead>\n",
              "  <tbody>\n",
              "    <tr>\n",
              "      <th>0</th>\n",
              "      <td>Probabilidade de detecção</td>\n",
              "      <td>0.9044</td>\n",
              "    </tr>\n",
              "    <tr>\n",
              "      <th>1</th>\n",
              "      <td>Probabilidade de alarme falso</td>\n",
              "      <td>0.1454</td>\n",
              "    </tr>\n",
              "    <tr>\n",
              "      <th>2</th>\n",
              "      <td>Especificidade</td>\n",
              "      <td>0.8546</td>\n",
              "    </tr>\n",
              "    <tr>\n",
              "      <th>3</th>\n",
              "      <td>Taxa de Erro</td>\n",
              "      <td>0.0701</td>\n",
              "    </tr>\n",
              "    <tr>\n",
              "      <th>4</th>\n",
              "      <td>Acurácia</td>\n",
              "      <td>0.9299</td>\n",
              "    </tr>\n",
              "    <tr>\n",
              "      <th>5</th>\n",
              "      <td>F1-Score</td>\n",
              "      <td>0.9042</td>\n",
              "    </tr>\n",
              "    <tr>\n",
              "      <th>6</th>\n",
              "      <td>Coeficiente MCC</td>\n",
              "      <td>0.7612</td>\n",
              "    </tr>\n",
              "    <tr>\n",
              "      <th>7</th>\n",
              "      <td>Probabilidade de detecção falsa</td>\n",
              "      <td>0.0956</td>\n",
              "    </tr>\n",
              "  </tbody>\n",
              "</table>\n",
              "</div>"
            ],
            "text/plain": [
              "                           Métrica   Valor\n",
              "0        Probabilidade de detecção  0.9044\n",
              "1    Probabilidade de alarme falso  0.1454\n",
              "2                   Especificidade  0.8546\n",
              "3                     Taxa de Erro  0.0701\n",
              "4                         Acurácia  0.9299\n",
              "5                         F1-Score  0.9042\n",
              "6                  Coeficiente MCC  0.7612\n",
              "7  Probabilidade de detecção falsa  0.0956"
            ]
          },
          "execution_count": 11,
          "metadata": {},
          "output_type": "execute_result"
        }
      ],
      "source": [
        "cm_rf = ConfusionMatrix(actual_vector=y_test,predict_vector=y_pred)\n",
        "\n",
        "weighted_metrics_rf = get_weighted_metrics(cm_rf)\n",
        "print_weighted_metrics(weighted_metrics_rf)"
      ]
    },
    {
      "attachments": {},
      "cell_type": "markdown",
      "id": "dfd88961",
      "metadata": {},
      "source": [
        "### 3.2 Matriz de confusão"
      ]
    },
    {
      "cell_type": "code",
      "execution_count": 12,
      "id": "db51f10e",
      "metadata": {},
      "outputs": [
        {
          "data": {
            "text/plain": [
              "<Axes: title={'center': 'Matriz de Confusão'}, xlabel='Predicted Classes', ylabel='Actual Classes'>"
            ]
          },
          "execution_count": 12,
          "metadata": {},
          "output_type": "execute_result"
        },
        {
          "data": {
            "image/png": "[encoded data removed]",
            "text/plain": [
              "<Figure size 640x480 with 2 Axes>"
            ]
          },
          "metadata": {},
          "output_type": "display_data"
        }
      ],
      "source": [
        "cm_rf.plot(number_label=True, title=\"Matriz de Confusão\", cmap=plt.cm.Blues) # type: ignore"
      ]
    },
    {
      "cell_type": "markdown",
      "id": "774d23fe",
      "metadata": {},
      "source": [
        "## 4. Probabilidade de detecção e acurácia"
      ]
    },
    {
      "cell_type": "code",
      "execution_count": 13,
      "id": "4b714d65",
      "metadata": {},
      "outputs": [
        {
          "data": {
            "image/png": "[encoded data removed]",
            "text/plain": [
              "<Figure size 640x480 with 1 Axes>"
            ]
          },
          "metadata": {},
          "output_type": "display_data"
        }
      ],
      "source": [
        "results = {\n",
        "    \"Random Forest\": {\"tpr\": weighted_metrics_rf['TPR'], \"acc\": weighted_metrics_rf['ACC'], \"pmd\": weighted_metrics_rf['PMD'], \"pfa\": weighted_metrics_rf['FPR']},\n",
        "    \"KNN\": {\"tpr\": weighted_metrics_knn['TPR'], \"acc\": weighted_metrics_knn['ACC'], \"pmd\": weighted_metrics_knn['PMD'], \"pfa\": weighted_metrics_knn['FPR']},\n",
        "}\n",
        "\n",
        "plot_metrics_graphic(results, metrics_to_plot=[\"tpr\", \"acc\"])"
      ]
    },
    {
      "cell_type": "markdown",
      "id": "701c96cd",
      "metadata": {},
      "source": [
        "## 5. Probabilidade de detecções incorretas e alarmes falsos"
      ]
    },
    {
      "cell_type": "code",
      "execution_count": 14,
      "id": "19eff759",
      "metadata": {},
      "outputs": [
        {
          "data": {
            "image/png": "[encoded data removed]",
            "text/plain": [
              "<Figure size 640x480 with 1 Axes>"
            ]
          },
          "metadata": {},
          "output_type": "display_data"
        }
      ],
      "source": [
        "plot_metrics_graphic(results, metrics_to_plot=[\"pmd\", \"pfa\"])"
      ]
    },
    {
      "attachments": {},
      "cell_type": "markdown",
      "id": "077d0c8d",
      "metadata": {},
      "source": [
        "## 4. Treino e teste do Gausian Naive Bayes"
      ]
    },
    {
      "cell_type": "code",
      "execution_count": 12,
      "id": "1ee56636",
      "metadata": {},
      "outputs": [],
      "source": [
        "nb = GaussianNB()\n",
        "nb.fit(X_train, y_train)\n",
        "\n",
        "y_pred = nb.predict(X_test)"
      ]
    },
    {
      "attachments": {},
      "cell_type": "markdown",
      "id": "35b0fba4",
      "metadata": {},
      "source": [
        "### 4.1 Métricas de desempenho do Gausian Naive Bayes Forest"
      ]
    },
    {
      "cell_type": "code",
      "execution_count": 13,
      "id": "fa6f4e4e",
      "metadata": {},
      "outputs": [
        {
          "name": "stderr",
          "output_type": "stream",
          "text": [
            "/home/jessicafileto/Documents/workspace/ufabc/ccm-102/.venv/lib/python3.13/site-packages/sklearn/metrics/_classification.py:1731: UndefinedMetricWarning: Precision is ill-defined and being set to 0.0 in labels with no predicted samples. Use `zero_division` parameter to control this behavior.\n",
            "  _warn_prf(average, modifier, f\"{metric.capitalize()} is\", result.shape[0])\n"
          ]
        },
        {
          "name": "stdout",
          "output_type": "stream",
          "text": [
            "Accuracy of Gausian Naive Bayes: 0.7252\n",
            "F1 Score: 0.6799\n",
            "Precision Score: 0.6416\n",
            "Recall Score: 0.7252\n",
            "Error: 0.2748\n"
          ]
        }
      ],
      "source": [
        "accuracy_rf = accuracy_score(y_test, y_pred)\n",
        "cm_rf = confusion_matrix(y_test, y_pred)\n",
        "f1_rf = f1_score(y_test, y_pred, average='weighted')\n",
        "precision_rf = precision_score(y_test, y_pred, average='weighted')\n",
        "recall_rf = recall_score(y_test, y_pred, average='weighted')\n",
        "\n",
        "print(f\"Accuracy of Gausian Naive Bayes: {accuracy_rf:.4f}\")\n",
        "print(f\"F1 Score: {f1_rf:.4f}\")\n",
        "print(f\"Precision Score: {precision_rf:.4f}\")\n",
        "print(f\"Recall Score: {recall_rf:.4f}\")\n",
        "print(f\"Error: {1 - accuracy_rf:.4f}\")"
      ]
    },
    {
      "attachments": {},
      "cell_type": "markdown",
      "id": "76e2965e",
      "metadata": {},
      "source": [
        "### 4.2 Matriz de confusão"
      ]
    },
    {
      "cell_type": "code",
      "execution_count": 14,
      "id": "a7031198",
      "metadata": {},
      "outputs": [
        {
          "data": {
            "image/png": "[encoded data removed]",
            "text/plain": [
              "<Figure size 600x400 with 1 Axes>"
            ]
          },
          "metadata": {},
          "output_type": "display_data"
        }
      ],
      "source": [
        "plt.figure(figsize=(6, 4))\n",
        "sns.heatmap(cm_rf, annot=True, fmt=\"d\", cmap=\"Blues\", cbar=False)\n",
        "\n",
        "plt.title(\"Matriz de Confusão\", fontsize=14)\n",
        "plt.xlabel(\"Previsto\")\n",
        "plt.ylabel(\"Real\")\n",
        "plt.show()"
      ]
    }
  ],
  "metadata": {
    "kernelspec": {
      "display_name": "ccm102_kernel",
      "language": "python",
      "name": "ccm102_kernel"
    },
    "language_info": {
      "codemirror_mode": {
        "name": "ipython",
        "version": 3
      },
      "file_extension": ".py",
      "mimetype": "text/x-python",
      "name": "python",
      "nbconvert_exporter": "python",
      "pygments_lexer": "ipython3",
      "version": "3.13.3"
    }
  },
  "nbformat": 4,
  "nbformat_minor": 5
}
