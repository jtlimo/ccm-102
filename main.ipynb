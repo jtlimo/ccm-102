{
  "cells": [
    {
      "attachments": {},
      "cell_type": "markdown",
      "id": "a925769b",
      "metadata": {},
      "source": [
        "## 0.0 Imports"
      ]
    },
    {
      "cell_type": "code",
      "execution_count": 42,
      "id": "08fae0e8",
      "metadata": {},
      "outputs": [
        {
          "name": "stdout",
          "output_type": "stream",
          "text": [
            "Requirement already satisfied: pandas in c:\\users\\sk\\anaconda3\\lib\\site-packages (2.2.3)\n",
            "Requirement already satisfied: numpy>=1.26.0 in c:\\users\\sk\\anaconda3\\lib\\site-packages (from pandas) (2.1.3)\n",
            "Requirement already satisfied: python-dateutil>=2.8.2 in c:\\users\\sk\\appdata\\roaming\\python\\python313\\site-packages (from pandas) (2.9.0.post0)\n",
            "Requirement already satisfied: pytz>=2020.1 in c:\\users\\sk\\anaconda3\\lib\\site-packages (from pandas) (2024.1)\n",
            "Requirement already satisfied: tzdata>=2022.7 in c:\\users\\sk\\anaconda3\\lib\\site-packages (from pandas) (2025.2)\n",
            "Requirement already satisfied: six>=1.5 in c:\\users\\sk\\appdata\\roaming\\python\\python313\\site-packages (from python-dateutil>=2.8.2->pandas) (1.17.0)\n",
            "Note: you may need to restart the kernel to use updated packages.\n",
            "Requirement already satisfied: scikit-learn in c:\\users\\sk\\anaconda3\\lib\\site-packages (1.7.1)\n",
            "Requirement already satisfied: numpy>=1.22.0 in c:\\users\\sk\\anaconda3\\lib\\site-packages (from scikit-learn) (2.1.3)\n",
            "Requirement already satisfied: scipy>=1.8.0 in c:\\users\\sk\\anaconda3\\lib\\site-packages (from scikit-learn) (1.16.1)\n",
            "Requirement already satisfied: joblib>=1.2.0 in c:\\users\\sk\\anaconda3\\lib\\site-packages (from scikit-learn) (1.4.2)\n",
            "Requirement already satisfied: threadpoolctl>=3.1.0 in c:\\users\\sk\\anaconda3\\lib\\site-packages (from scikit-learn) (3.5.0)\n",
            "Note: you may need to restart the kernel to use updated packages.\n",
            "Requirement already satisfied: openpyxl in c:\\users\\sk\\anaconda3\\lib\\site-packages (3.1.5)\n",
            "Requirement already satisfied: et-xmlfile in c:\\users\\sk\\anaconda3\\lib\\site-packages (from openpyxl) (1.1.0)\n",
            "Note: you may need to restart the kernel to use updated packages.\n",
            "Requirement already satisfied: pip in c:\\users\\sk\\anaconda3\\lib\\site-packages (25.2)\n",
            "Note: you may need to restart the kernel to use updated packages.\n",
            "Requirement already satisfied: matplotlib in c:\\users\\sk\\anaconda3\\lib\\site-packages (3.10.5)\n",
            "Requirement already satisfied: contourpy>=1.0.1 in c:\\users\\sk\\anaconda3\\lib\\site-packages (from matplotlib) (1.3.1)\n",
            "Requirement already satisfied: cycler>=0.10 in c:\\users\\sk\\anaconda3\\lib\\site-packages (from matplotlib) (0.11.0)\n",
            "Requirement already satisfied: fonttools>=4.22.0 in c:\\users\\sk\\anaconda3\\lib\\site-packages (from matplotlib) (4.55.3)\n",
            "Requirement already satisfied: kiwisolver>=1.3.1 in c:\\users\\sk\\anaconda3\\lib\\site-packages (from matplotlib) (1.4.8)\n",
            "Requirement already satisfied: numpy>=1.23 in c:\\users\\sk\\anaconda3\\lib\\site-packages (from matplotlib) (2.1.3)\n",
            "Requirement already satisfied: packaging>=20.0 in c:\\users\\sk\\appdata\\roaming\\python\\python313\\site-packages (from matplotlib) (25.0)\n",
            "Requirement already satisfied: pillow>=8 in c:\\users\\sk\\anaconda3\\lib\\site-packages (from matplotlib) (11.1.0)\n",
            "Requirement already satisfied: pyparsing>=2.3.1 in c:\\users\\sk\\anaconda3\\lib\\site-packages (from matplotlib) (3.2.0)\n",
            "Requirement already satisfied: python-dateutil>=2.7 in c:\\users\\sk\\appdata\\roaming\\python\\python313\\site-packages (from matplotlib) (2.9.0.post0)\n",
            "Requirement already satisfied: six>=1.5 in c:\\users\\sk\\appdata\\roaming\\python\\python313\\site-packages (from python-dateutil>=2.7->matplotlib) (1.17.0)\n",
            "Note: you may need to restart the kernel to use updated packages.\n",
            "Requirement already satisfied: seaborn in c:\\users\\sk\\anaconda3\\lib\\site-packages (0.13.2)\n",
            "Requirement already satisfied: numpy!=1.24.0,>=1.20 in c:\\users\\sk\\anaconda3\\lib\\site-packages (from seaborn) (2.1.3)\n",
            "Requirement already satisfied: pandas>=1.2 in c:\\users\\sk\\anaconda3\\lib\\site-packages (from seaborn) (2.2.3)\n",
            "Requirement already satisfied: matplotlib!=3.6.1,>=3.4 in c:\\users\\sk\\anaconda3\\lib\\site-packages (from seaborn) (3.10.5)\n",
            "Requirement already satisfied: contourpy>=1.0.1 in c:\\users\\sk\\anaconda3\\lib\\site-packages (from matplotlib!=3.6.1,>=3.4->seaborn) (1.3.1)\n",
            "Requirement already satisfied: cycler>=0.10 in c:\\users\\sk\\anaconda3\\lib\\site-packages (from matplotlib!=3.6.1,>=3.4->seaborn) (0.11.0)\n",
            "Requirement already satisfied: fonttools>=4.22.0 in c:\\users\\sk\\anaconda3\\lib\\site-packages (from matplotlib!=3.6.1,>=3.4->seaborn) (4.55.3)\n",
            "Requirement already satisfied: kiwisolver>=1.3.1 in c:\\users\\sk\\anaconda3\\lib\\site-packages (from matplotlib!=3.6.1,>=3.4->seaborn) (1.4.8)\n",
            "Requirement already satisfied: packaging>=20.0 in c:\\users\\sk\\appdata\\roaming\\python\\python313\\site-packages (from matplotlib!=3.6.1,>=3.4->seaborn) (25.0)\n",
            "Requirement already satisfied: pillow>=8 in c:\\users\\sk\\anaconda3\\lib\\site-packages (from matplotlib!=3.6.1,>=3.4->seaborn) (11.1.0)\n",
            "Requirement already satisfied: pyparsing>=2.3.1 in c:\\users\\sk\\anaconda3\\lib\\site-packages (from matplotlib!=3.6.1,>=3.4->seaborn) (3.2.0)\n",
            "Requirement already satisfied: python-dateutil>=2.7 in c:\\users\\sk\\appdata\\roaming\\python\\python313\\site-packages (from matplotlib!=3.6.1,>=3.4->seaborn) (2.9.0.post0)\n",
            "Requirement already satisfied: pytz>=2020.1 in c:\\users\\sk\\anaconda3\\lib\\site-packages (from pandas>=1.2->seaborn) (2024.1)\n",
            "Requirement already satisfied: tzdata>=2022.7 in c:\\users\\sk\\anaconda3\\lib\\site-packages (from pandas>=1.2->seaborn) (2025.2)\n",
            "Requirement already satisfied: six>=1.5 in c:\\users\\sk\\appdata\\roaming\\python\\python313\\site-packages (from python-dateutil>=2.7->matplotlib!=3.6.1,>=3.4->seaborn) (1.17.0)\n",
            "Note: you may need to restart the kernel to use updated packages.\n"
          ]
        }
      ],
      "source": [
        "%pip install pandas\n",
        "%pip install scikit-learn\n",
        "%pip install openpyxl\n",
        "%pip install --upgrade pip\n",
        "%pip install matplotlib\n",
        "%pip install seaborn\n",
        "\n",
        "import pandas as pd\n",
        "from sklearn.neighbors import KNeighborsClassifier\n",
        "from sklearn.ensemble import RandomForestClassifier\n",
        "from sklearn.naive_bayes import GaussianNB\n",
        "from sklearn.metrics import accuracy_score, confusion_matrix, f1_score, precision_score, recall_score\n",
        "from sklearn.model_selection import train_test_split\n",
        "import matplotlib.pyplot as plt\n",
        "import seaborn as sns\n",
        "from sklearn.svm import LinearSVC\n",
        "# from sklearn.preprocessing import StandardScaler\n",
        "# from sklearn.decomposition import PCA"
      ]
    },
    {
      "attachments": {},
      "cell_type": "markdown",
      "id": "7a496c2a",
      "metadata": {},
      "source": [
        "## 1.0 Leitura do conjunto de dados"
      ]
    },
    {
      "cell_type": "code",
      "execution_count": 43,
      "id": "9f6cf53e",
      "metadata": {},
      "outputs": [
        {
          "data": {
            "text/html": [
              "<div>\n",
              "<style scoped>\n",
              "    .dataframe tbody tr th:only-of-type {\n",
              "        vertical-align: middle;\n",
              "    }\n",
              "\n",
              "    .dataframe tbody tr th {\n",
              "        vertical-align: top;\n",
              "    }\n",
              "\n",
              "    .dataframe thead th {\n",
              "        text-align: right;\n",
              "    }\n",
              "</style>\n",
              "<table border=\"1\" class=\"dataframe\">\n",
              "  <thead>\n",
              "    <tr style=\"text-align: right;\">\n",
              "      <th></th>\n",
              "      <th>PRN</th>\n",
              "      <th>DO</th>\n",
              "      <th>PD</th>\n",
              "      <th>RX</th>\n",
              "      <th>TOW</th>\n",
              "      <th>CP</th>\n",
              "      <th>EC</th>\n",
              "      <th>LC</th>\n",
              "      <th>PC</th>\n",
              "      <th>PIP</th>\n",
              "      <th>PQP</th>\n",
              "      <th>TCD</th>\n",
              "      <th>CN0</th>\n",
              "      <th>Output</th>\n",
              "    </tr>\n",
              "  </thead>\n",
              "  <tbody>\n",
              "    <tr>\n",
              "      <th>0</th>\n",
              "      <td>6</td>\n",
              "      <td>1160.67140780005</td>\n",
              "      <td>-238359.543281858</td>\n",
              "      <td>491568</td>\n",
              "      <td>491568.000795082</td>\n",
              "      <td>-24660.2632931903</td>\n",
              "      <td>163521.78</td>\n",
              "      <td>170008.81</td>\n",
              "      <td>179294.97</td>\n",
              "      <td>178420.33</td>\n",
              "      <td>-17688.178</td>\n",
              "      <td>1158.4806</td>\n",
              "      <td>49.412529</td>\n",
              "      <td>0</td>\n",
              "    </tr>\n",
              "    <tr>\n",
              "      <th>1</th>\n",
              "      <td>6</td>\n",
              "      <td>1157.82780811118</td>\n",
              "      <td>-238363.921192484</td>\n",
              "      <td>491568.02</td>\n",
              "      <td>491568.020795096</td>\n",
              "      <td>-24683.4685202421</td>\n",
              "      <td>158277.05</td>\n",
              "      <td>160253.09</td>\n",
              "      <td>182106.11</td>\n",
              "      <td>182106.05</td>\n",
              "      <td>158.33333</td>\n",
              "      <td>1160.7948</td>\n",
              "      <td>49.452686</td>\n",
              "      <td>0</td>\n",
              "    </tr>\n",
              "    <tr>\n",
              "      <th>2</th>\n",
              "      <td>6</td>\n",
              "      <td>1161.13593220979</td>\n",
              "      <td>-238368.638614547</td>\n",
              "      <td>491568.04</td>\n",
              "      <td>491568.040795112</td>\n",
              "      <td>-24706.6873571922</td>\n",
              "      <td>184442.36</td>\n",
              "      <td>193125.89</td>\n",
              "      <td>208228.02</td>\n",
              "      <td>-205198.3</td>\n",
              "      <td>35391.59</td>\n",
              "      <td>1157.6909</td>\n",
              "      <td>49.480145</td>\n",
              "      <td>0</td>\n",
              "    </tr>\n",
              "    <tr>\n",
              "      <th>3</th>\n",
              "      <td>6</td>\n",
              "      <td>1161.15661719479</td>\n",
              "      <td>-238373.391774656</td>\n",
              "      <td>491568.06</td>\n",
              "      <td>491568.060795128</td>\n",
              "      <td>-24729.9200394638</td>\n",
              "      <td>159812.45</td>\n",
              "      <td>169960.55</td>\n",
              "      <td>187550.72</td>\n",
              "      <td>187543</td>\n",
              "      <td>-1701.944</td>\n",
              "      <td>1161.1343</td>\n",
              "      <td>49.433769</td>\n",
              "      <td>0</td>\n",
              "    </tr>\n",
              "    <tr>\n",
              "      <th>4</th>\n",
              "      <td>6</td>\n",
              "      <td>1160.6908929619</td>\n",
              "      <td>-238378.127065742</td>\n",
              "      <td>491568.08</td>\n",
              "      <td>491568.080795144</td>\n",
              "      <td>-24753.1539994783</td>\n",
              "      <td>183557.66</td>\n",
              "      <td>191912.58</td>\n",
              "      <td>208403.5</td>\n",
              "      <td>208330.05</td>\n",
              "      <td>-5532.8999</td>\n",
              "      <td>1161.1759</td>\n",
              "      <td>49.39167</td>\n",
              "      <td>0</td>\n",
              "    </tr>\n",
              "    <tr>\n",
              "      <th>...</th>\n",
              "      <td>...</td>\n",
              "      <td>...</td>\n",
              "      <td>...</td>\n",
              "      <td>...</td>\n",
              "      <td>...</td>\n",
              "      <td>...</td>\n",
              "      <td>...</td>\n",
              "      <td>...</td>\n",
              "      <td>...</td>\n",
              "      <td>...</td>\n",
              "      <td>...</td>\n",
              "      <td>...</td>\n",
              "      <td>...</td>\n",
              "      <td>...</td>\n",
              "    </tr>\n",
              "    <tr>\n",
              "      <th>510525</th>\n",
              "      <td>4</td>\n",
              "      <td>-1113.336004</td>\n",
              "      <td>1949364.523</td>\n",
              "      <td>264109.58</td>\n",
              "      <td>264109.5735</td>\n",
              "      <td>114898.7034</td>\n",
              "      <td>90875.36719</td>\n",
              "      <td>104455.8516</td>\n",
              "      <td>99626.32031</td>\n",
              "      <td>-95613.48438</td>\n",
              "      <td>27990.45703</td>\n",
              "      <td>-1113.685547</td>\n",
              "      <td>43.05340958</td>\n",
              "      <td>0</td>\n",
              "    </tr>\n",
              "    <tr>\n",
              "      <th>510526</th>\n",
              "      <td>7</td>\n",
              "      <td>3542.882288</td>\n",
              "      <td>2823824.599</td>\n",
              "      <td>264109.58</td>\n",
              "      <td>264109.5706</td>\n",
              "      <td>-195707.189</td>\n",
              "      <td>139266.9219</td>\n",
              "      <td>133094.5938</td>\n",
              "      <td>144683.2656</td>\n",
              "      <td>-142087.5469</td>\n",
              "      <td>-27283.24023</td>\n",
              "      <td>3532.388916</td>\n",
              "      <td>46.4665451</td>\n",
              "      <td>0</td>\n",
              "    </tr>\n",
              "    <tr>\n",
              "      <th>510527</th>\n",
              "      <td>9</td>\n",
              "      <td>1205.18283</td>\n",
              "      <td>1298452.438</td>\n",
              "      <td>264109.58</td>\n",
              "      <td>264109.5757</td>\n",
              "      <td>-136011.0641</td>\n",
              "      <td>104211.4117</td>\n",
              "      <td>111445.296</td>\n",
              "      <td>125940.9297</td>\n",
              "      <td>-125705.6406</td>\n",
              "      <td>-9212.472557</td>\n",
              "      <td>2779.28833</td>\n",
              "      <td>47.58116531</td>\n",
              "      <td>3</td>\n",
              "    </tr>\n",
              "    <tr>\n",
              "      <th>510528</th>\n",
              "      <td>27</td>\n",
              "      <td>2814.03045</td>\n",
              "      <td>2298963.88</td>\n",
              "      <td>264109.58</td>\n",
              "      <td>264109.5723</td>\n",
              "      <td>-300750.7153</td>\n",
              "      <td>107693.0131</td>\n",
              "      <td>121277.7439</td>\n",
              "      <td>133731.1114</td>\n",
              "      <td>132020.7188</td>\n",
              "      <td>-21319.94265</td>\n",
              "      <td>2780.66748</td>\n",
              "      <td>46.21652603</td>\n",
              "      <td>3</td>\n",
              "    </tr>\n",
              "    <tr>\n",
              "      <th>510529</th>\n",
              "      <td>16</td>\n",
              "      <td>-1128.727534</td>\n",
              "      <td>1930857.745</td>\n",
              "      <td>264109.58</td>\n",
              "      <td>264109.5736</td>\n",
              "      <td>116884.3898</td>\n",
              "      <td>120670.3137</td>\n",
              "      <td>130400.5361</td>\n",
              "      <td>144633.2816</td>\n",
              "      <td>144197.1875</td>\n",
              "      <td>-11223.06787</td>\n",
              "      <td>-1221.668701</td>\n",
              "      <td>45.23025513</td>\n",
              "      <td>3</td>\n",
              "    </tr>\n",
              "  </tbody>\n",
              "</table>\n",
              "<p>510530 rows × 14 columns</p>\n",
              "</div>"
            ],
            "text/plain": [
              "       PRN                DO                 PD         RX               TOW  \\\n",
              "0        6  1160.67140780005  -238359.543281858     491568  491568.000795082   \n",
              "1        6  1157.82780811118  -238363.921192484  491568.02  491568.020795096   \n",
              "2        6  1161.13593220979  -238368.638614547  491568.04  491568.040795112   \n",
              "3        6  1161.15661719479  -238373.391774656  491568.06  491568.060795128   \n",
              "4        6   1160.6908929619  -238378.127065742  491568.08  491568.080795144   \n",
              "...     ..               ...                ...        ...               ...   \n",
              "510525   4      -1113.336004        1949364.523  264109.58       264109.5735   \n",
              "510526   7       3542.882288        2823824.599  264109.58       264109.5706   \n",
              "510527   9        1205.18283        1298452.438  264109.58       264109.5757   \n",
              "510528  27        2814.03045         2298963.88  264109.58       264109.5723   \n",
              "510529  16      -1128.727534        1930857.745  264109.58       264109.5736   \n",
              "\n",
              "                       CP           EC           LC           PC  \\\n",
              "0       -24660.2632931903    163521.78    170008.81    179294.97   \n",
              "1       -24683.4685202421    158277.05    160253.09    182106.11   \n",
              "2       -24706.6873571922    184442.36    193125.89    208228.02   \n",
              "3       -24729.9200394638    159812.45    169960.55    187550.72   \n",
              "4       -24753.1539994783    183557.66    191912.58     208403.5   \n",
              "...                   ...          ...          ...          ...   \n",
              "510525        114898.7034  90875.36719  104455.8516  99626.32031   \n",
              "510526        -195707.189  139266.9219  133094.5938  144683.2656   \n",
              "510527       -136011.0641  104211.4117   111445.296  125940.9297   \n",
              "510528       -300750.7153  107693.0131  121277.7439  133731.1114   \n",
              "510529        116884.3898  120670.3137  130400.5361  144633.2816   \n",
              "\n",
              "                 PIP           PQP           TCD          CN0 Output  \n",
              "0          178420.33    -17688.178     1158.4806    49.412529      0  \n",
              "1          182106.05     158.33333     1160.7948    49.452686      0  \n",
              "2          -205198.3      35391.59     1157.6909    49.480145      0  \n",
              "3             187543     -1701.944     1161.1343    49.433769      0  \n",
              "4          208330.05    -5532.8999     1161.1759     49.39167      0  \n",
              "...              ...           ...           ...          ...    ...  \n",
              "510525  -95613.48438   27990.45703  -1113.685547  43.05340958      0  \n",
              "510526  -142087.5469  -27283.24023   3532.388916   46.4665451      0  \n",
              "510527  -125705.6406  -9212.472557    2779.28833  47.58116531      3  \n",
              "510528   132020.7188  -21319.94265    2780.66748  46.21652603      3  \n",
              "510529   144197.1875  -11223.06787  -1221.668701  45.23025513      3  \n",
              "\n",
              "[510530 rows x 14 columns]"
            ]
          },
          "execution_count": 43,
          "metadata": {},
          "output_type": "execute_result"
        }
      ],
      "source": [
        "ds = pd.read_excel('GPS_Data_Simplified_2D_Feature_Map.xlsx',  dtype = str)\n",
        "ds"
      ]
    },
    {
      "attachments": {},
      "cell_type": "markdown",
      "id": "f60d9302",
      "metadata": {},
      "source": [
        "### 1.1 Extração das features e da classe\n"
      ]
    },
    {
      "cell_type": "code",
      "execution_count": 44,
      "id": "53427657",
      "metadata": {},
      "outputs": [
        {
          "name": "stdout",
          "output_type": "stream",
          "text": [
            "<class 'pandas.core.frame.DataFrame'>\n",
            "RangeIndex: 510530 entries, 0 to 510529\n",
            "Data columns (total 14 columns):\n",
            " #   Column  Non-Null Count   Dtype \n",
            "---  ------  --------------   ----- \n",
            " 0   PRN     510530 non-null  object\n",
            " 1   DO      510530 non-null  object\n",
            " 2   PD      510530 non-null  object\n",
            " 3   RX      510530 non-null  object\n",
            " 4   TOW     510530 non-null  object\n",
            " 5   CP      510530 non-null  object\n",
            " 6   EC      510530 non-null  object\n",
            " 7   LC      510530 non-null  object\n",
            " 8   PC      510530 non-null  object\n",
            " 9   PIP     510530 non-null  object\n",
            " 10  PQP     510530 non-null  object\n",
            " 11  TCD     510530 non-null  object\n",
            " 12  CN0     510530 non-null  object\n",
            " 13  Output  510530 non-null  object\n",
            "dtypes: object(14)\n",
            "memory usage: 54.5+ MB\n"
          ]
        }
      ],
      "source": [
        "feature_columns = [\"PRN\",\"DO\",\"PD\",\t\"RX\",\"TOW\",\"CP\",\"EC\",\"LC\",\"PC\",\t\"PIP\",\"PQP\",\"TCD\",\"CN0\"]\n",
        "X = ds[feature_columns].values\n",
        "y = ds['Output'].values\n",
        "\n",
        "ds.info()"
      ]
    },
    {
      "attachments": {},
      "cell_type": "markdown",
      "id": "5f17b2cd",
      "metadata": {},
      "source": [
        "### 1.2 Pre-processamento dos dados\n",
        "Utilização da técnica _Principal Component Analysis (PCA)_\n",
        "\n",
        "> Esta técnica visa reduzir a dimensão do conjunto de dados."
      ]
    },
    {
      "cell_type": "code",
      "execution_count": 45,
      "id": "32a2c424",
      "metadata": {},
      "outputs": [],
      "source": [
        "# código PCA\n",
        "# scaler = StandardScaler()\n",
        "# X_scaled = scaler.fit_transform(X)\n",
        "\n",
        "# pca = PCA(n_components=2)\n",
        "# X_pca = pca.fit_transform(X_scaled)"
      ]
    },
    {
      "attachments": {},
      "cell_type": "markdown",
      "id": "afc0a2d6",
      "metadata": {},
      "source": [
        "### 1.3 Separação dos dados de treinamento e teste\n",
        "> Separação foi de 70% do conjunto de dados para treino e 30% para testes\n"
      ]
    },
    {
      "cell_type": "code",
      "execution_count": 46,
      "id": "8b6163f9",
      "metadata": {},
      "outputs": [],
      "source": [
        "# X_train, X_test, y_train, y_test = train_test_split(X_pca, y, test_size=0.3, random_state=42)\n",
        "X_train, X_test, y_train, y_test = train_test_split(X, y, test_size=0.3, random_state=42)\n",
        "\n"
      ]
    },
    {
      "attachments": {},
      "cell_type": "markdown",
      "id": "00faf00f",
      "metadata": {},
      "source": [
        "## 2. Treino e teste do K-NN"
      ]
    },
    {
      "cell_type": "code",
      "execution_count": 47,
      "id": "fbda7d2f",
      "metadata": {},
      "outputs": [],
      "source": [
        "cl_sklearn = KNeighborsClassifier(n_neighbors=3)\n",
        "cl_sklearn.fit(X_train, y_train)\n",
        "y_pred = cl_sklearn.predict(X_test)"
      ]
    },
    {
      "attachments": {},
      "cell_type": "markdown",
      "id": "16780632",
      "metadata": {},
      "source": [
        "### 2.1 Métricas de desempenho do K-NN"
      ]
    },
    {
      "cell_type": "code",
      "execution_count": 48,
      "id": "20bffa95",
      "metadata": {},
      "outputs": [
        {
          "name": "stdout",
          "output_type": "stream",
          "text": [
            "Accuracy of KNN Classifier: 0.7917\n",
            "F1 Score: 0.7781\n",
            "Precision Score: 0.7708\n",
            "Recall Score: 0.7917\n",
            "Error: 0.2083\n"
          ]
        }
      ],
      "source": [
        "accuracy = accuracy_score(y_test, y_pred)\n",
        "cm = confusion_matrix(y_test, y_pred)\n",
        "f1 = f1_score(y_test, y_pred, average='weighted')\n",
        "precision = precision_score(y_test, y_pred, average='weighted')\n",
        "recall = recall_score(y_test, y_pred, average='weighted')\n",
        "\n",
        "print(f\"Accuracy of KNN Classifier: {accuracy:.4f}\")\n",
        "print(f\"F1 Score: {f1:.4f}\")\n",
        "print(f\"Precision Score: {precision:.4f}\")\n",
        "print(f\"Recall Score: {recall:.4f}\")\n",
        "print(f\"Error: {1 - accuracy:.4f}\")\n"
      ]
    },
    {
      "attachments": {},
      "cell_type": "markdown",
      "id": "3e547864",
      "metadata": {},
      "source": [
        "### 2.2 Matriz de confusão"
      ]
    },
    {
      "cell_type": "code",
      "execution_count": 49,
      "id": "d855b18b",
      "metadata": {},
      "outputs": [
        {
          "data": {
            "image/png": "[encoded data removed]",
            "text/plain": [
              "<Figure size 600x400 with 1 Axes>"
            ]
          },
          "metadata": {},
          "output_type": "display_data"
        }
      ],
      "source": [
        "plt.figure(figsize=(6, 4))\n",
        "sns.heatmap(cm, annot=True, fmt=\"d\", cmap=\"Blues\", cbar=False)\n",
        "\n",
        "plt.title(\"Matriz de Confusão\", fontsize=14)\n",
        "plt.xlabel(\"Previsto\")\n",
        "plt.ylabel(\"Real\")\n",
        "plt.show()"
      ]
    },
    {
      "attachments": {},
      "cell_type": "markdown",
      "id": "063434bb",
      "metadata": {},
      "source": [
        "## 3. Treino e teste do Random Forest"
      ]
    },
    {
      "cell_type": "code",
      "execution_count": 50,
      "id": "28f3288e",
      "metadata": {},
      "outputs": [],
      "source": [
        "rf = RandomForestClassifier(n_estimators=100, random_state=42)\n",
        "rf.fit(X_train, y_train)\n",
        "\n",
        "y_pred = rf.predict(X_test)"
      ]
    },
    {
      "attachments": {},
      "cell_type": "markdown",
      "id": "8ac0ab68",
      "metadata": {},
      "source": [
        "### 3.1 Métricas de desempenho do Random Forest"
      ]
    },
    {
      "cell_type": "code",
      "execution_count": 51,
      "id": "46a1f1db",
      "metadata": {},
      "outputs": [
        {
          "name": "stdout",
          "output_type": "stream",
          "text": [
            "Accuracy of Random Forest Classifier: 0.7884\n",
            "F1 Score: 0.7746\n",
            "Precision Score: 0.7678\n",
            "Recall Score: 0.7884\n",
            "Error: 0.2116\n"
          ]
        }
      ],
      "source": [
        "accuracy_rf = accuracy_score(y_test, y_pred)\n",
        "cm_rf = confusion_matrix(y_test, y_pred)\n",
        "f1_rf = f1_score(y_test, y_pred, average='weighted')\n",
        "precision_rf = precision_score(y_test, y_pred, average='weighted')\n",
        "recall_rf = recall_score(y_test, y_pred, average='weighted')\n",
        "\n",
        "print(f\"Accuracy of Random Forest Classifier: {accuracy_rf:.4f}\")\n",
        "print(f\"F1 Score: {f1_rf:.4f}\")\n",
        "print(f\"Precision Score: {precision_rf:.4f}\")\n",
        "print(f\"Recall Score: {recall_rf:.4f}\")\n",
        "print(f\"Error: {1 - accuracy_rf:.4f}\")"
      ]
    },
    {
      "attachments": {},
      "cell_type": "markdown",
      "id": "dfd88961",
      "metadata": {},
      "source": [
        "### 3.2 Matriz de confusão"
      ]
    },
    {
      "cell_type": "code",
      "execution_count": 52,
      "id": "db51f10e",
      "metadata": {},
      "outputs": [
        {
          "data": {
            "image/png": "[encoded data removed]",
            "text/plain": [
              "<Figure size 600x400 with 1 Axes>"
            ]
          },
          "metadata": {},
          "output_type": "display_data"
        }
      ],
      "source": [
        "plt.figure(figsize=(6, 4))\n",
        "sns.heatmap(cm_rf, annot=True, fmt=\"d\", cmap=\"Blues\", cbar=False)\n",
        "\n",
        "plt.title(\"Matriz de Confusão\", fontsize=14)\n",
        "plt.xlabel(\"Previsto\")\n",
        "plt.ylabel(\"Real\")\n",
        "plt.show()"
      ]
    },
    {
      "attachments": {},
      "cell_type": "markdown",
      "id": "077d0c8d",
      "metadata": {},
      "source": [
        "## 4. Treino e teste do Gausian Naive Bayes"
      ]
    },
    {
      "cell_type": "code",
      "execution_count": 53,
      "id": "1ee56636",
      "metadata": {},
      "outputs": [],
      "source": [
        "nb = GaussianNB()\n",
        "nb.fit(X_train, y_train)\n",
        "\n",
        "y_pred = nb.predict(X_test)"
      ]
    },
    {
      "attachments": {},
      "cell_type": "markdown",
      "id": "35b0fba4",
      "metadata": {},
      "source": [
        "### 4.1 Métricas de desempenho do Gausian Naive Bayes"
      ]
    },
    {
      "cell_type": "code",
      "execution_count": 54,
      "id": "fa6f4e4e",
      "metadata": {},
      "outputs": [
        {
          "name": "stderr",
          "output_type": "stream",
          "text": [
            "c:\\Users\\sk\\anaconda3\\Lib\\site-packages\\sklearn\\metrics\\_classification.py:1731: UndefinedMetricWarning: Precision is ill-defined and being set to 0.0 in labels with no predicted samples. Use `zero_division` parameter to control this behavior.\n",
            "  _warn_prf(average, modifier, f\"{metric.capitalize()} is\", result.shape[0])\n"
          ]
        },
        {
          "name": "stdout",
          "output_type": "stream",
          "text": [
            "Accuracy of Gausian Naive Bayes: 0.7787\n",
            "F1 Score: 0.6872\n",
            "Precision Score: 0.6975\n",
            "Recall Score: 0.7787\n",
            "Error: 0.2213\n"
          ]
        }
      ],
      "source": [
        "accuracy_rf = accuracy_score(y_test, y_pred)\n",
        "cm_rf = confusion_matrix(y_test, y_pred)\n",
        "f1_rf = f1_score(y_test, y_pred, average='weighted')\n",
        "precision_rf = precision_score(y_test, y_pred, average='weighted')\n",
        "recall_rf = recall_score(y_test, y_pred, average='weighted')\n",
        "\n",
        "print(f\"Accuracy of Gausian Naive Bayes: {accuracy_rf:.4f}\")\n",
        "print(f\"F1 Score: {f1_rf:.4f}\")\n",
        "print(f\"Precision Score: {precision_rf:.4f}\")\n",
        "print(f\"Recall Score: {recall_rf:.4f}\")\n",
        "print(f\"Error: {1 - accuracy_rf:.4f}\")"
      ]
    },
    {
      "attachments": {},
      "cell_type": "markdown",
      "id": "76e2965e",
      "metadata": {},
      "source": [
        "### 4.2 Matriz de confusão"
      ]
    },
    {
      "cell_type": "code",
      "execution_count": 55,
      "id": "a7031198",
      "metadata": {},
      "outputs": [
        {
          "data": {
            "image/png": "[encoded data removed]",
            "text/plain": [
              "<Figure size 600x400 with 1 Axes>"
            ]
          },
          "metadata": {},
          "output_type": "display_data"
        }
      ],
      "source": [
        "plt.figure(figsize=(6, 4))\n",
        "sns.heatmap(cm_rf, annot=True, fmt=\"d\", cmap=\"Blues\", cbar=False)\n",
        "\n",
        "plt.title(\"Matriz de Confusão\", fontsize=14)\n",
        "plt.xlabel(\"Previsto\")\n",
        "plt.ylabel(\"Real\")\n",
        "plt.show()"
      ]
    },
    {
      "attachments": {},
      "cell_type": "markdown",
      "id": "9727ed85",
      "metadata": {},
      "source": [
        "## 5. Treino e teste do LinearSVC"
      ]
    },
    {
      "cell_type": "code",
      "execution_count": 56,
      "id": "84a697bf",
      "metadata": {},
      "outputs": [],
      "source": [
        "svc = LinearSVC()\n",
        "svc.fit(X_train, y_train)\n",
        "\n",
        "y_pred = svc.predict(X_test)"
      ]
    },
    {
      "attachments": {},
      "cell_type": "markdown",
      "id": "098aacd7",
      "metadata": {},
      "source": [
        "### 5.1 Métricas de desempenho do LinearSVC"
      ]
    },
    {
      "cell_type": "code",
      "execution_count": 57,
      "id": "6c146b81",
      "metadata": {},
      "outputs": [
        {
          "name": "stderr",
          "output_type": "stream",
          "text": [
            "c:\\Users\\sk\\anaconda3\\Lib\\site-packages\\sklearn\\metrics\\_classification.py:1731: UndefinedMetricWarning: Precision is ill-defined and being set to 0.0 in labels with no predicted samples. Use `zero_division` parameter to control this behavior.\n",
            "  _warn_prf(average, modifier, f\"{metric.capitalize()} is\", result.shape[0])\n"
          ]
        },
        {
          "name": "stdout",
          "output_type": "stream",
          "text": [
            "Accuracy of LinearSVC: 0.7780\n",
            "F1 Score: 0.6808\n",
            "Precision Score: 0.6052\n",
            "Recall Score: 0.7780\n",
            "Error: 0.2220\n"
          ]
        }
      ],
      "source": [
        "accuracy = accuracy_score(y_test, y_pred)\n",
        "cm = confusion_matrix(y_test, y_pred)\n",
        "f1 = f1_score(y_test, y_pred, average='weighted')\n",
        "precision = precision_score(y_test, y_pred, average='weighted')\n",
        "recall = recall_score(y_test, y_pred, average='weighted')\n",
        "\n",
        "print(f\"Accuracy of LinearSVC: {accuracy:.4f}\")\n",
        "print(f\"F1 Score: {f1:.4f}\")\n",
        "print(f\"Precision Score: {precision:.4f}\")\n",
        "print(f\"Recall Score: {recall:.4f}\")\n",
        "print(f\"Error: {1 - accuracy:.4f}\")\n"
      ]
    },
    {
      "attachments": {},
      "cell_type": "markdown",
      "id": "d32a7dff",
      "metadata": {},
      "source": [
        "### 5.2 Matriz de confusão"
      ]
    },
    {
      "cell_type": "code",
      "execution_count": 58,
      "id": "e69dcdec",
      "metadata": {},
      "outputs": [
        {
          "data": {
            "image/png": "[encoded data removed]",
            "text/plain": [
              "<Figure size 600x400 with 1 Axes>"
            ]
          },
          "metadata": {},
          "output_type": "display_data"
        }
      ],
      "source": [
        "plt.figure(figsize=(6, 4))\n",
        "sns.heatmap(cm_rf, annot=True, fmt=\"d\", cmap=\"Blues\", cbar=False)\n",
        "\n",
        "plt.title(\"Matriz de Confusão\", fontsize=14)\n",
        "plt.xlabel(\"Previsto\")\n",
        "plt.ylabel(\"Real\")\n",
        "plt.show()"
      ]
    }
  ],
  "metadata": {
    "kernelspec": {
      "display_name": "ccm102_kernel",
      "language": "python",
      "name": "ccm102_kernel"
    },
    "language_info": {
      "codemirror_mode": {
        "name": "ipython",
        "version": 3
      },
      "file_extension": ".py",
      "mimetype": "text/x-python",
      "name": "python",
      "nbconvert_exporter": "python",
      "pygments_lexer": "ipython3",
      "version": "3.13.3"
    }
  },
  "nbformat": 4,
  "nbformat_minor": 5
}
